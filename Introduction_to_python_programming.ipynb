{
 "cells": [
  {
   "cell_type": "markdown",
   "metadata": {
    "collapsed": false
   },
   "source": [
    "<h1><img src=\"./coding hive logo med with text.png\" height=\"60\" width =\"47\">\n",
    "Python Coding I: Arrays and Image Processing\n",
    "</h1>\n",
    "\n",
    "This module will cover the following topics:\n",
    "<h></h>\n",
    " - Working with Arrays\n",
    " - Conditions and loops\n",
    " - Functions\n",
    " - Image processing"
   ]
  },
  {
   "cell_type": "markdown",
   "metadata": {
    "collapsed": false
   },
   "source": [
    "<h3>Chapter 1: Arrays</h3>"
   ]
  },
  {
   "cell_type": "markdown",
   "metadata": {
    "collapsed": false
   },
   "source": [
    "<h4>1.0: Numpy </h4>\n"
   ]
  },
  {
   "cell_type": "code",
   "execution_count": 2,
   "metadata": {
    "collapsed": false
   },
   "outputs": [
   ],
   "source": [
    "#let us import the library that we will be using to work with arrays\n",
    "import numpy as np"
   ]
  },
  {
   "cell_type": "markdown",
   "metadata": {
    "collapsed": false
   },
   "source": [
    "<h4>1.1: Array Creation </h4>\n",
    "There are various ways we can create an array. Arrays can also have multiple dimensions. In this section, we will explore creation methods in numpy such as arange, array, ones and random."
   ]
  },
  {
   "cell_type": "code",
   "execution_count": 12,
   "metadata": {
    "collapsed": false
   },
   "outputs": [
    {
     "name": "stdout",
     "output_type": "stream",
     "text": [
      "[10 15 20]\n"
     ]
    }
   ],
   "source": [
    "#use arange function\n",
    "array_example=np.arange(10,25,5)\n",
    "print(array_example)"
   ]
  },
  {
   "cell_type": "code",
   "execution_count": 13,
   "metadata": {
    "collapsed": false
   },
   "outputs": [
    {
     "name": "stdout",
     "output_type": "stream",
     "text": [
      "[1 2 3]\n"
     ]
    }
   ],
   "source": [
    "#one dimensional array\n",
    "one_dim=np.array([1,2,3])\n",
    "print(one_dim)"
   ]
  },
  {
   "cell_type": "code",
   "execution_count": 14,
   "metadata": {
    "collapsed": false
   },
   "outputs": [
    {
     "name": "stdout",
     "output_type": "stream",
     "text": [
      "[[1 2 3]\n",
      " [4 5 6]\n",
      " [7 8 9]]\n"
     ]
    }
   ],
   "source": [
    "#two dimensional array\n",
    "two_dim=np.array([[1,2,3],[4,5,6],[7,8,9]])\n",
    "print(two_dim)"
   ]
  },
  {
   "cell_type": "code",
   "execution_count": 18,
   "metadata": {
    "collapsed": false
   },
   "outputs": [
    {
     "name": "stdout",
     "output_type": "stream",
     "text": [
      "[[[1 2 3]\n",
      "  [4 5 6]\n",
      "  [7 8 9]]\n",
      "\n",
      " [[1 2 3]\n",
      "  [4 5 6]\n",
      "  [7 8 9]]\n",
      "\n",
      " [[1 2 3]\n",
      "  [4 5 6]\n",
      "  [7 8 9]]]\n"
     ]
    }
   ],
   "source": [
    "#three dimensional array\n",
    "three_dim=np.array([[[1,2,3],[4,5,6],[7,8,9]],[[1,2,3],[4,5,6],[7,8,9]],[[1,2,3],[4,5,6],[7,8,9]]])\n",
    "print(three_dim)"
   ]
  },
  {
   "cell_type": "code",
   "execution_count": 19,
   "metadata": {
    "collapsed": false
   },
   "outputs": [
    {
     "name": "stdout",
     "output_type": "stream",
     "text": [
      "[104 106 187]\n"
     ]
    }
   ],
   "source": [
    "#one dimensional array\n",
    "one_dim_pixel=np.random.randint(0, 255, size=(3))\n",
    "print(one_dim_pixel)"
   ]
  },
  {
   "cell_type": "code",
   "execution_count": 20,
   "metadata": {
    "collapsed": false
   },
   "outputs": [
    {
     "name": "stdout",
     "output_type": "stream",
     "text": [
      "[[  1  17  40]\n",
      " [ 41   9 248]\n",
      " [127 136 216]]\n"
     ]
    }
   ],
   "source": [
    "#two dimensional arrays\n",
    "two_dim_pixel=np.random.randint(0,255,size=(3,3))\n",
    "print(two_dim_pixel)"
   ]
  },
  {
   "cell_type": "code",
   "execution_count": 21,
   "metadata": {
    "collapsed": false
   },
   "outputs": [
    {
     "name": "stdout",
     "output_type": "stream",
     "text": [
      "[[[ 26 211 152]\n",
      "  [186 130 186]\n",
      "  [212 172 237]\n",
      "  ...\n",
      "  [185 237  64]\n",
      "  [152  23 254]\n",
      "  [183 111  74]]\n",
      "\n",
      " [[ 94  59   6]\n",
      "  [184 161 251]\n",
      "  [ 62 157  84]\n",
      "  ...\n",
      "  [237  52  41]\n",
      "  [249 203 173]\n",
      "  [ 18 240  79]]\n",
      "\n",
      " [[174  19 134]\n",
      "  [170 175 177]\n",
      "  [104   2 106]\n",
      "  ...\n",
      "  [ 80 210 165]\n",
      "  [227 174 222]\n",
      "  [ 92  54 215]]\n",
      "\n",
      " ...\n",
      "\n",
      " [[ 43  37 219]\n",
      "  [ 47 232 213]\n",
      "  [ 29  16   6]\n",
      "  ...\n",
      "  [204 119 148]\n",
      "  [121  69 171]\n",
      "  [ 19 163 125]]\n",
      "\n",
      " [[204 236  86]\n",
      "  [ 90 202 203]\n",
      "  [ 43 245  75]\n",
      "  ...\n",
      "  [253  41 128]\n",
      "  [ 66 184  84]\n",
      "  [100 101  10]]\n",
      "\n",
      " [[ 14 190 248]\n",
      "  [  8 177 223]\n",
      "  [ 48   2 167]\n",
      "  ...\n",
      "  [221 215 164]\n",
      "  [197  55 138]\n",
      "  [ 95 200  45]]]\n"
     ]
    }
   ],
   "source": [
    "#three dimensional arrays. This dimension represents most of the images we will be dealing with. 28 pixels by 28 pixels\n",
    "three_dim_pixel=np.random.randint(0,255,size=(28,28,3))\n",
    "print(three_dim_pixel)"
   ]
  },
  {
   "cell_type": "code",
   "execution_count": 44,
   "metadata": {
    "collapsed": false
   },
   "outputs": [
    {
     "name": "stdout",
     "output_type": "stream",
     "text": [
      "[[[ 57  91 137]\n",
      "  [125 179 206]\n",
      "  [232 158 107]\n",
      "  [167  92 178]]\n",
      "\n",
      " [[ 60  63 196]\n",
      "  [193 172 248]\n",
      "  [ 77 185 141]\n",
      "  [210 214 129]]\n",
      "\n",
      " [[ 29  80 111]\n",
      "  [127  35   8]\n",
      "  [184 246 105]\n",
      "  [169   8  88]]\n",
      "\n",
      " [[100  14  19]\n",
      "  [208 200 106]\n",
      "  [108  33 211]\n",
      "  [ 34  68 194]]]\n"
     ]
    },
    {
     "data": {
      "text/plain": [
       "105"
      ]
     },
     "execution_count": 44,
     "metadata": {
     },
     "output_type": "execute_result"
    }
   ],
   "source": [
    "three_dim= np.random.randint(0,256,size=(4,4,3))\n",
    "print(three_dim)\n",
    "three_dim[2,2,2]"
   ]
  },
  {
   "cell_type": "code",
   "execution_count": 45,
   "metadata": {
    "collapsed": false
   },
   "outputs": [
    {
     "name": "stdout",
     "output_type": "stream",
     "text": [
      "[[1. 1. 1. 1.]\n",
      " [1. 1. 1. 1.]\n",
      " [1. 1. 1. 1.]]\n"
     ]
    }
   ],
   "source": [
    "#create an array of ones\n",
    "array_ones=np.ones((3,4))\n",
    "print(array_ones.astype(float))"
   ]
  },
  {
   "cell_type": "markdown",
   "metadata": {
    "collapsed": false
   },
   "source": [
    "<h4>1.2: Array Info</h4>\n",
    "Now that we have created these arrays, we can start exploring their content and find out more about their types.\n"
   ]
  },
  {
   "cell_type": "code",
   "execution_count": 46,
   "metadata": {
    "collapsed": false
   },
   "outputs": [
    {
     "name": "stdout",
     "output_type": "stream",
     "text": [
      "1\n",
      "2\n",
      "3\n"
     ]
    }
   ],
   "source": [
    "#find out array dimensions\n",
    "print(one_dim_pixel.ndim)\n",
    "print(two_dim_pixel.ndim)\n",
    "print(three_dim_pixel.ndim)"
   ]
  },
  {
   "cell_type": "code",
   "execution_count": 47,
   "metadata": {
    "collapsed": false
   },
   "outputs": [
    {
     "name": "stdout",
     "output_type": "stream",
     "text": [
      "(28, 28, 3)\n"
     ]
    }
   ],
   "source": [
    "#find out the dimensions\n",
    "print(three_dim_pixel.shape)"
   ]
  },
  {
   "cell_type": "code",
   "execution_count": 48,
   "metadata": {
    "collapsed": false
   },
   "outputs": [
    {
     "name": "stdout",
     "output_type": "stream",
     "text": [
      "3\n",
      "9\n",
      "2352\n"
     ]
    }
   ],
   "source": [
    "#find out array size\n",
    "print(one_dim_pixel.size)\n",
    "print(two_dim_pixel.size)\n",
    "print(three_dim_pixel.size)"
   ]
  },
  {
   "cell_type": "code",
   "execution_count": 49,
   "metadata": {
    "collapsed": false
   },
   "outputs": [
    {
     "name": "stdout",
     "output_type": "stream",
     "text": [
      "8\n",
      "8\n",
      "8\n"
     ]
    }
   ],
   "source": [
    "#find out how many bytes per item\n",
    "print(one_dim_pixel.itemsize)\n",
    "print(two_dim_pixel.itemsize)\n",
    "print(three_dim_pixel.itemsize)"
   ]
  },
  {
   "cell_type": "code",
   "execution_count": 50,
   "metadata": {
    "collapsed": false
   },
   "outputs": [
    {
     "name": "stdout",
     "output_type": "stream",
     "text": [
      "24\n",
      "72\n",
      "18816\n"
     ]
    }
   ],
   "source": [
    "#find out the total number of bytes\n",
    "print(one_dim_pixel.nbytes)\n",
    "print(two_dim_pixel.nbytes)\n",
    "print(three_dim_pixel.nbytes)"
   ]
  },
  {
   "cell_type": "code",
   "execution_count": 51,
   "metadata": {
    "collapsed": false
   },
   "outputs": [
    {
     "name": "stdout",
     "output_type": "stream",
     "text": [
      "294081\n"
     ]
    }
   ],
   "source": [
    "#find out the sum of the array\n",
    "print(three_dim_pixel.sum())"
   ]
  },
  {
   "cell_type": "code",
   "execution_count": 52,
   "metadata": {
    "collapsed": false
   },
   "outputs": [
    {
     "name": "stdout",
     "output_type": "stream",
     "text": [
      "0\n"
     ]
    }
   ],
   "source": [
    "#find out the minimum pixel\n",
    "print(three_dim_pixel.min())"
   ]
  },
  {
   "cell_type": "code",
   "execution_count": 53,
   "metadata": {
    "collapsed": false
   },
   "outputs": [
    {
     "name": "stdout",
     "output_type": "stream",
     "text": [
      "125.03443877551021\n"
     ]
    }
   ],
   "source": [
    "#find out the average pixel value\n",
    "print(three_dim_pixel.mean())"
   ]
  },
  {
   "cell_type": "code",
   "execution_count": 54,
   "metadata": {
    "collapsed": false
   },
   "outputs": [
    {
     "name": "stdout",
     "output_type": "stream",
     "text": [
      "72.93337576422265\n"
     ]
    }
   ],
   "source": [
    "#find out the standard deviation of the pixels\n",
    "print(np.std(three_dim_pixel))"
   ]
  },
  {
   "cell_type": "markdown",
   "metadata": {
    "collapsed": false
   },
   "source": [
    "<h4>1.3: Slicing an Array</h4>\n",
    "In this section we will learn how to pull individual elements or a range of elements from arrays. "
   ]
  },
  {
   "cell_type": "code",
   "execution_count": 55,
   "metadata": {
    "collapsed": false
   },
   "outputs": [
    {
     "data": {
      "text/plain": [
       "106"
      ]
     },
     "execution_count": 55,
     "metadata": {
     },
     "output_type": "execute_result"
    }
   ],
   "source": [
    "#pull an element from a one dimensional array\n",
    "one_dim_pixel[1]"
   ]
  },
  {
   "cell_type": "code",
   "execution_count": 56,
   "metadata": {
    "collapsed": false
   },
   "outputs": [
    {
     "data": {
      "text/plain": [
       "array([104, 106, 187])"
      ]
     },
     "execution_count": 56,
     "metadata": {
     },
     "output_type": "execute_result"
    }
   ],
   "source": [
    "#pull a range of elements from an array\n",
    "one_dim_pixel[0:3]"
   ]
  },
  {
   "cell_type": "code",
   "execution_count": 57,
   "metadata": {
    "collapsed": false
   },
   "outputs": [
    {
     "data": {
      "text/plain": [
       "9"
      ]
     },
     "execution_count": 57,
     "metadata": {
     },
     "output_type": "execute_result"
    }
   ],
   "source": [
    "#pull an element from a two dimensional array\n",
    "two_dim_pixel[1,1]"
   ]
  },
  {
   "cell_type": "code",
   "execution_count": 58,
   "metadata": {
    "collapsed": false
   },
   "outputs": [
    {
     "data": {
      "text/plain": [
       "array([ 95, 200,  45])"
      ]
     },
     "execution_count": 58,
     "metadata": {
     },
     "output_type": "execute_result"
    }
   ],
   "source": [
    "#pull an element from a three dimensional array\n",
    "three_dim_pixel[27,27,:]"
   ]
  },
  {
   "cell_type": "code",
   "execution_count": 59,
   "metadata": {
    "collapsed": false
   },
   "outputs": [
    {
     "data": {
      "text/plain": [
       "array([104, 106])"
      ]
     },
     "execution_count": 59,
     "metadata": {
     },
     "output_type": "execute_result"
    }
   ],
   "source": [
    "#use conditions to splice an array\n",
    "one_dim_pixel[one_dim_pixel<150]"
   ]
  },
  {
   "cell_type": "markdown",
   "metadata": {
    "collapsed": false
   },
   "source": [
    "<h4>1.4: Restructuring Arrays</h4>\n",
    "Sometimes in Neural Networks, we will need to flatten an image by converting its multi-dimensional space into one dimension. This can be done with the function reshape."
   ]
  },
  {
   "cell_type": "code",
   "execution_count": 37,
   "metadata": {
    "collapsed": false
   },
   "outputs": [
    {
     "name": "stdout",
     "output_type": "stream",
     "text": [
      "[[  1  17  40]\n",
      " [ 41   9 248]\n",
      " [127 136 216]]\n"
     ]
    }
   ],
   "source": [
    "print(two_dim_pixel)"
   ]
  },
  {
   "cell_type": "code",
   "execution_count": 38,
   "metadata": {
    "collapsed": false
   },
   "outputs": [
    {
     "name": "stdout",
     "output_type": "stream",
     "text": [
      "[[  1  41 127]\n",
      " [ 17   9 136]\n",
      " [ 40 248 216]]\n"
     ]
    }
   ],
   "source": [
    "#transpose an array\n",
    "print(np.transpose(two_dim_pixel))"
   ]
  },
  {
   "cell_type": "code",
   "execution_count": 39,
   "metadata": {
    "collapsed": false
   },
   "outputs": [
    {
     "data": {
      "text/plain": [
       "array([[  1,  17,  40,  41,   9, 248, 127, 136, 216]])"
      ]
     },
     "execution_count": 39,
     "metadata": {
     },
     "output_type": "execute_result"
    }
   ],
   "source": [
    "#resize the array. we are taking the 3x3 dimensional array and flattening it to be 1x9 one dimensional array\n",
    "np.reshape(two_dim_pixel,(1,9))"
   ]
  },
  {
   "cell_type": "markdown",
   "metadata": {
    "collapsed": false
   },
   "source": [
    "<h4>1.5: Appending to an Array</h4>"
   ]
  },
  {
   "cell_type": "code",
   "execution_count": 27,
   "metadata": {
    "collapsed": false
   },
   "outputs": [
    {
     "data": {
      "text/plain": [
       "array([ 58, 185, 105, 150])"
      ]
     },
     "execution_count": 27,
     "metadata": {
     },
     "output_type": "execute_result"
    }
   ],
   "source": [
    "#add another pixel\n",
    "np.append(one_dim_pixel,[150])\n",
    "#np.delete(one_dim_pixel,2)\n",
    "#one_dim_pixel"
   ]
  },
  {
   "cell_type": "markdown",
   "metadata": {
    "collapsed": false
   },
   "source": [
    "<h4>1.6: Displaying an Image Array</h4>"
   ]
  },
  {
   "cell_type": "code",
   "execution_count": 60,
   "metadata": {
    "collapsed": false
   },
   "outputs": [
    {
     "data": {
      "text/plain": [
       "<matplotlib.image.AxesImage at 0x7f9edf944780>"
      ]
     },
     "execution_count": 60,
     "metadata": {
     },
     "output_type": "execute_result"
    },
    {
     "data": {
      "image/png": "[encoded data removed]",
      "text/plain": [
       "<Figure size 432x288 with 1 Axes>"
      ]
     },
     "execution_count": 60,
     "metadata": {
      "image/png": {
       "height": 252,
       "width": 271
      }
     },
     "output_type": "execute_result"
    }
   ],
   "source": [
    "#use the imshow function from matplotlib to display an array as a picture\n",
    "import matplotlib.pyplot as plt            # visualize images\n",
    "plt.imshow(two_dim_pixel)"
   ]
  },
  {
   "cell_type": "markdown",
   "metadata": {
    "collapsed": false
   },
   "source": [
    "<h2>4.0 Conditions and Loops</h2>"
   ]
  },
  {
   "cell_type": "markdown",
   "metadata": {
    "collapsed": false
   },
   "source": [
    "Python allows us to assess logical conditions as follows:\n",
    "\n",
    "-  Equals: `a == b`\n",
    "-  Not Equals: `a != b`\n",
    "-  Less than: `a < b`\n",
    "-  Less than or equal to: `a <= b`\n",
    "-  Greater than: `a > b`\n",
    "-  Greater than or equal to: `a >= b`\n",
    "\n",
    "The output of each of the above logical conditions is `True` or `False`. These conditions can be used in IF statements, For loops, and while loops."
   ]
  },
  {
   "cell_type": "markdown",
   "metadata": {
    "collapsed": false
   },
   "source": [
    "<h3>4.1 IF Condition</h3>\n",
    "\n",
    "Programming is very useful in turning any decision-making process into an efficient and reproducible process. Decision-making usually involves the following steps:\n",
    "\n",
    "-  Information collection\n",
    "-  Coming up with logic\n",
    "-  Definining actions for each logic\n",
    "\n",
    "If statements allow us to build code that executes certain actions depending on the values of the information collected. For example, if we want to write a piece of code that decides whether a number is positive, negative or 0, we can construct it the following way (note the indentation):"
   ]
  },
  {
   "cell_type": "code",
   "execution_count": 61,
   "metadata": {
    "collapsed": false
   },
   "outputs": [
    {
     "name": "stdout",
     "output_type": "stream",
     "text": [
      "input is positive!\n"
     ]
    }
   ],
   "source": [
    "input=2                      # information collection\n",
    "\n",
    "if (input > 0):                   # logic definition\n",
    "    print('input is positive!')   # action\n",
    "    #print('something else')\n",
    "elif(input < 0):                  # alternative logic\n",
    "    print('input is negative!')   # alternative action\n",
    "else:                             # if none of the above conditions are met\n",
    "    print('input is zero!')       # then execute this action"
   ]
  },
  {
   "cell_type": "code",
   "execution_count": 62,
   "metadata": {
    "collapsed": false
   },
   "outputs": [
    {
     "data": {
      "text/plain": [
       "True"
      ]
     },
     "execution_count": 62,
     "metadata": {
     },
     "output_type": "execute_result"
    }
   ],
   "source": [
    "#look at the output of condition\n",
    "input>0"
   ]
  },
  {
   "cell_type": "markdown",
   "metadata": {
    "collapsed": false
   },
   "source": [
    "<h3>4.2 FOR Loops</h3>\n",
    "\n",
    "Loops provide you with the ability to loop through any list and execute a certain action on each element within that list. "
   ]
  },
  {
   "cell_type": "code",
   "execution_count": 63,
   "metadata": {
    "collapsed": false
   },
   "outputs": [
    {
     "name": "stdout",
     "output_type": "stream",
     "text": [
      "the number in this iteration is:0\n",
      "the number in this iteration is:1\n",
      "the number in this iteration is:2\n",
      "the number in this iteration is:3\n",
      "sum is:6\n"
     ]
    }
   ],
   "source": [
    "sum_n = 0\n",
    "\n",
    "for number in np.arange(0,4):\n",
    "    sum_n = sum_n + number\n",
    "    print('the number in this iteration is:' + str(number))\n",
    "    \n",
    "print('sum is:' + str(sum_n))\n"
   ]
  },
  {
   "cell_type": "markdown",
   "metadata": {
    "collapsed": false
   },
   "source": [
    "<h2>5.0 Functions</h2>\n",
    "\n",
    "Functions are a great way to combine everything we have learned so far! A function is a block of code that can contain a mix of conditional logic, variable definitions, loops and actions. The intention of a functions is to take in a number of input variables and return actions/decisions. Each function is usually developed to perform a specific task. Functions can then come together to produce a pipeline. \n",
    "\n",
    "Let's start with a simple function that simply takes your name and prints a personalized greeting! "
   ]
  },
  {
   "cell_type": "code",
   "execution_count": 64,
   "metadata": {
    "collapsed": false
   },
   "outputs": [
   ],
   "source": [
    "def my_function(name_input):                            # here you define your function name. notice the indentation\n",
    "  print(\"Hello \" + name_input + \"! How are you today?\") # actions that your function is suppose to perform"
   ]
  },
  {
   "cell_type": "code",
   "execution_count": 65,
   "metadata": {
    "collapsed": false
   },
   "outputs": [
    {
     "name": "stdout",
     "output_type": "stream",
     "text": [
      "Hello Fouad! How are you today?\n"
     ]
    }
   ],
   "source": [
    "my_function('Fouad')                                    # you can call your function. try changing what you pass to it"
   ]
  },
  {
   "cell_type": "markdown",
   "metadata": {
    "collapsed": false
   },
   "source": [
    "Let's write a function that calculates the average score from a list of scores that get passed to it: "
   ]
  },
  {
   "cell_type": "code",
   "execution_count": 66,
   "metadata": {
    "collapsed": false
   },
   "outputs": [
   ],
   "source": [
    "# let's first define our function\n",
    "def calculate_average(x):  # give it a unique name\n",
    "    total = sum(x)         # find the sum\n",
    "    length = len(x)        # find the number of numbers\n",
    "    average = total/length # calculate the average\n",
    "    return(average)        # return the average\n"
   ]
  },
  {
   "cell_type": "code",
   "execution_count": 67,
   "metadata": {
    "collapsed": false
   },
   "outputs": [
    {
     "data": {
      "text/plain": [
       "2.0"
      ]
     },
     "execution_count": 67,
     "metadata": {
     },
     "output_type": "execute_result"
    }
   ],
   "source": [
    "calculate_average([1,2,3])                                    # you can call your function. try changing what you pass to it"
   ]
  },
  {
   "cell_type": "markdown",
   "metadata": {
    "collapsed": false
   },
   "source": [
    "This function actually exists in Python and it is called mean(). Let's try running it and see if we get the same results.\n"
   ]
  },
  {
   "cell_type": "code",
   "execution_count": 68,
   "metadata": {
    "collapsed": false
   },
   "outputs": [
    {
     "name": "stdout",
     "output_type": "stream",
     "text": [
      "2\n"
     ]
    }
   ],
   "source": [
    "from statistics import mean\n",
    "print(mean([1,2,3]))"
   ]
  },
  {
   "cell_type": "markdown",
   "metadata": {
    "collapsed": false
   },
   "source": [
    "<h2>6.0 Image Processing</h2>\n",
    "\n"
   ]
  },
  {
   "cell_type": "markdown",
   "metadata": {
    "collapsed": false
   },
   "source": [
    "In this section, you will learn how to load and process images using Python. This will be useful when we perform image classification using neural networks! There are many packages that we can use to do this. We will utilize Keras (a package that we will use to perform machine learning) to do some of these tasks. \n",
    "The aim of this exercise is to get you familiar with:\n",
    "<h></h>\n",
    " - Loading an image\n",
    " - Converting an image to an array of pixels\n",
    " - Understand RGB\n",
    " - Write a function that identifies R2D2 vs Darth Vader"
   ]
  },
  {
   "cell_type": "markdown",
   "metadata": {
    "collapsed": false
   },
   "source": [
    "<h4>6.1: Load Required Libraries</h4>\n",
    "\n",
    "You will only need 3 libraries to perform the above tasks!"
   ]
  },
  {
   "cell_type": "code",
   "execution_count": 69,
   "metadata": {
    "collapsed": false
   },
   "outputs": [
    {
     "name": "stderr",
     "output_type": "stream",
     "text": [
      "/usr/local/lib/python3.6/dist-packages/h5py/__init__.py:36: FutureWarning: Conversion of the second argument of issubdtype from `float` to `np.floating` is deprecated. In future, it will be treated as `np.float64 == np.dtype(float).type`.\n",
      "  from ._conv import register_converters as _register_converters\n",
      "Using TensorFlow backend.\n"
     ]
    }
   ],
   "source": [
    "import matplotlib.pyplot as plt            # visualize array of pixels\n",
    "from keras.preprocessing import image      # preprocess images\n",
    "from PIL import ImageOps                   # preprocess images\n"
   ]
  },
  {
   "cell_type": "markdown",
   "metadata": {
    "collapsed": false
   },
   "source": [
    "<h4>6.2 Load R2D2 and Darth Vader Images</h4>\n",
    "Using the <b>load_img</b> function from <b>image</b> library, let's try to load the image r2d2.png and darth.png. The function has multiple paramteres:\n",
    "\n",
    " - path= we use this parameter to specify the location of the image\n",
    " - color_mode= we can pick gray scale\n",
    " - target_size= we can specify the dimensions\n",
    " \n",
    "\n"
   ]
  },
  {
   "cell_type": "code",
   "execution_count": 77,
   "metadata": {
    "collapsed": false
   },
   "outputs": [
   ],
   "source": [
    "r2d2 = image.load_img(path=\"/home/user/data/r2d2.png\",target_size=(180,180))\n",
    "darth = image.load_img(path=\"/home/user/data/darth.png\",target_size=(180,180))"
   ]
  },
  {
   "cell_type": "code",
   "execution_count": 78,
   "metadata": {
    "collapsed": false
   },
   "outputs": [
    {
     "data": {
      "image/png": "[encoded data removed]",
      "text/plain": [
       "<PIL.Image.Image image mode=RGB size=180x180 at 0x7F9EBBA41E10>"
      ]
     },
     "execution_count": 78,
     "metadata": {
     },
     "output_type": "execute_result"
    }
   ],
   "source": [
    "#view the images\n",
    "r2d2"
   ]
  },
  {
   "cell_type": "code",
   "execution_count": 79,
   "metadata": {
    "collapsed": false
   },
   "outputs": [
    {
     "data": {
      "image/png": "[encoded data removed]",
      "text/plain": [
       "<PIL.Image.Image image mode=RGB size=180x180 at 0x7F9EBBA41F28>"
      ]
     },
     "execution_count": 79,
     "metadata": {
     },
     "output_type": "execute_result"
    }
   ],
   "source": [
    "darth"
   ]
  },
  {
   "cell_type": "markdown",
   "metadata": {
    "collapsed": false
   },
   "source": [
    "<h4>6.3 Flipping an Image</h4>\n",
    "\n"
   ]
  },
  {
   "cell_type": "code",
   "execution_count": 80,
   "metadata": {
    "collapsed": false
   },
   "outputs": [
    {
     "data": {
      "image/png": "[encoded data removed]",
      "text/plain": [
       "<PIL.Image.Image image mode=RGB size=180x180 at 0x7F9EBBA41BE0>"
      ]
     },
     "execution_count": 80,
     "metadata": {
     },
     "output_type": "execute_result"
    }
   ],
   "source": [
    "ImageOps.flip(darth)"
   ]
  },
  {
   "cell_type": "markdown",
   "metadata": {
    "collapsed": false
   },
   "source": [
    "<h4>6.3 Inverting an Image</h4>\n",
    "\n"
   ]
  },
  {
   "cell_type": "code",
   "execution_count": 81,
   "metadata": {
    "collapsed": false
   },
   "outputs": [
    {
     "data": {
      "image/png": "[encoded data removed]",
      "text/plain": [
       "<PIL.Image.Image image mode=RGB size=180x180 at 0x7F9EBBA41B00>"
      ]
     },
     "execution_count": 81,
     "metadata": {
     },
     "output_type": "execute_result"
    }
   ],
   "source": [
    "darth_inverted=ImageOps.invert(darth)\n",
    "darth_inverted"
   ]
  },
  {
   "cell_type": "markdown",
   "metadata": {
    "collapsed": false
   },
   "source": [
    "<h4>6.3 Convert to an array of pixels</h4>\n",
    "\n",
    "Now that we have loaded the images. Let us convert them to an array of pixels using the <b>img_to_array</b> function from <b>image</b> library"
   ]
  },
  {
   "cell_type": "code",
   "execution_count": 82,
   "metadata": {
    "collapsed": false
   },
   "outputs": [
   ],
   "source": [
    "r2d2_arr = image.img_to_array(r2d2)\n",
    "darth_arr = image.img_to_array(darth)"
   ]
  },
  {
   "cell_type": "code",
   "execution_count": 76,
   "metadata": {
    "collapsed": false
   },
   "outputs": [
    {
     "data": {
      "text/plain": [
       "(180, 180, 3)"
      ]
     },
     "execution_count": 76,
     "metadata": {
     },
     "output_type": "execute_result"
    }
   ],
   "source": [
    "#what does an array look like? it looks very similar to the one we created earlier\n",
    "r2d2_arr.shape"
   ]
  },
  {
   "cell_type": "code",
   "execution_count": 45,
   "metadata": {
    "collapsed": false
   },
   "outputs": [
    {
     "data": {
      "text/plain": [
       "array([[[255., 255., 255.],\n",
       "        [255., 255., 255.],\n",
       "        [255., 255., 255.],\n",
       "        ...,\n",
       "        [255., 255., 255.],\n",
       "        [255., 255., 255.],\n",
       "        [255., 255., 255.]],\n",
       "\n",
       "       [[255., 255., 255.],\n",
       "        [255., 255., 255.],\n",
       "        [255., 255., 255.],\n",
       "        ...,\n",
       "        [255., 255., 255.],\n",
       "        [255., 255., 255.],\n",
       "        [255., 255., 255.]],\n",
       "\n",
       "       [[255., 255., 255.],\n",
       "        [255., 255., 255.],\n",
       "        [255., 255., 255.],\n",
       "        ...,\n",
       "        [255., 255., 255.],\n",
       "        [255., 255., 255.],\n",
       "        [255., 255., 255.]],\n",
       "\n",
       "       ...,\n",
       "\n",
       "       [[255., 255., 255.],\n",
       "        [255., 255., 255.],\n",
       "        [255., 255., 255.],\n",
       "        ...,\n",
       "        [255., 255., 255.],\n",
       "        [255., 255., 255.],\n",
       "        [255., 255., 255.]],\n",
       "\n",
       "       [[255., 255., 255.],\n",
       "        [255., 255., 255.],\n",
       "        [255., 255., 255.],\n",
       "        ...,\n",
       "        [255., 255., 255.],\n",
       "        [255., 255., 255.],\n",
       "        [255., 255., 255.]],\n",
       "\n",
       "       [[255., 255., 255.],\n",
       "        [255., 255., 255.],\n",
       "        [255., 255., 255.],\n",
       "        ...,\n",
       "        [255., 255., 255.],\n",
       "        [255., 255., 255.],\n",
       "        [255., 255., 255.]]], dtype=float32)"
      ]
     },
     "execution_count": 45,
     "metadata": {
     },
     "output_type": "execute_result"
    }
   ],
   "source": [
    "r2d2_arr"
   ]
  },
  {
   "cell_type": "markdown",
   "metadata": {
    "collapsed": false
   },
   "source": [
    "What do the above numbers represent? Visit https://www.rapidtables.com/web/color/RGB_Color.html to find out!"
   ]
  },
  {
   "cell_type": "code",
   "execution_count": 87,
   "metadata": {
    "collapsed": false
   },
   "outputs": [
    {
     "data": {
      "text/plain": [
       "array([[ 63.,  81., 181.],\n",
       "       [ 63.,  81., 181.],\n",
       "       [ 63.,  81., 181.],\n",
       "       [ 63.,  81., 181.],\n",
       "       [ 63.,  81., 181.]], dtype=float32)"
      ]
     },
     "execution_count": 87,
     "metadata": {
     },
     "output_type": "execute_result"
    }
   ],
   "source": [
    "#let us view the first row of pixels\n",
    "r2d2_arr[7,85:90]"
   ]
  },
  {
   "cell_type": "code",
   "execution_count": 47,
   "metadata": {
    "collapsed": false
   },
   "outputs": [
    {
     "data": {
      "image/png": "[encoded data removed]",
      "text/plain": [
       "<PIL.Image.Image image mode=RGB size=180x180 at 0x7F76B8412E48>"
      ]
     },
     "execution_count": 47,
     "metadata": {
     },
     "output_type": "execute_result"
    }
   ],
   "source": [
    "#what row of pixels do you think will have the blue?\n",
    "r2d2"
   ]
  },
  {
   "cell_type": "code",
   "execution_count": 84,
   "metadata": {
    "collapsed": false
   },
   "outputs": [
    {
     "data": {
      "text/plain": [
       "array([ 63.,  81., 181.], dtype=float32)"
      ]
     },
     "execution_count": 84,
     "metadata": {
     },
     "output_type": "execute_result"
    }
   ],
   "source": [
    "r2d2_arr[7,90]"
   ]
  },
  {
   "cell_type": "code",
   "execution_count": 49,
   "metadata": {
    "collapsed": false
   },
   "outputs": [
    {
     "data": {
      "image/png": "[encoded data removed]",
      "text/plain": [
       "<PIL.Image.Image image mode=RGB size=180x180 at 0x7F76B8493E80>"
      ]
     },
     "execution_count": 49,
     "metadata": {
     },
     "output_type": "execute_result"
    }
   ],
   "source": [
    "#what row of pixels in darth vader's picture will be black?\n",
    "darth"
   ]
  },
  {
   "cell_type": "code",
   "execution_count": 50,
   "metadata": {
    "collapsed": false
   },
   "outputs": [
    {
     "data": {
      "text/plain": [
       "array([38., 38., 38.], dtype=float32)"
      ]
     },
     "execution_count": 50,
     "metadata": {
     },
     "output_type": "execute_result"
    }
   ],
   "source": [
   ]
  },
  {
   "cell_type": "code",
   "execution_count": 89,
   "metadata": {
    "collapsed": false
   },
   "outputs": [
    {
     "name": "stdout",
     "output_type": "stream",
     "text": [
      "133.92812 228.01378\n"
     ]
    }
   ],
   "source": [
    "#can we find the maximum pixel value?\n",
    "darth_arr.max()\n",
    "darth_arr.min()\n",
    "print(darth_arr.mean(),r2d2_arr.mean())"
   ]
  },
  {
   "cell_type": "markdown",
   "metadata": {
    "collapsed": false
   },
   "source": [
    "<h4>6.4 Build an R2D2 and Darth Vader Classifier</h4>"
   ]
  },
  {
   "cell_type": "markdown",
   "metadata": {
    "collapsed": false
   },
   "source": [
    "Based on the two pictures you have seen above. What kind of logic do you think we can use to figure out if it is a picture of R2d2 vs Darth Vader. Use the Python skills you have learned so far to write a function that:\n",
    "\n",
    " * Accepts a picture\n",
    " * Uses logic to distinguish between darth and r2d2 images\n",
    " * Returns a message saying if it is darth vader or r2d2"
   ]
  },
  {
   "cell_type": "code",
   "execution_count": 94,
   "metadata": {
    "collapsed": false
   },
   "outputs": [
   ],
   "source": [
    "def star_wars(x):\n",
    "    if(x.mean()> 200):\n",
    "        print(\"R2D2\")\n",
    "    else:\n",
    "        print(\"Darth\")\n"
   ]
  },
  {
   "cell_type": "code",
   "execution_count": 95,
   "metadata": {
    "collapsed": false
   },
   "outputs": [
    {
     "name": "stdout",
     "output_type": "stream",
     "text": [
      "Darth\n"
     ]
    }
   ],
   "source": [
    "# now that our function is defined, let's try calling it and passing it a pic\n",
    "picture(darth_arr)"
   ]
  },
  {
   "cell_type": "code",
   "execution_count": 96,
   "metadata": {
    "collapsed": false
   },
   "outputs": [
    {
     "name": "stdout",
     "output_type": "stream",
     "text": [
      "Darth\n"
     ]
    }
   ],
   "source": [
    "#let's try it on a new image!\n",
    "unknown = image.load_img(path=\"/home/user/data/unknown.png\",target_size=(180,180))\n",
    "unknown_arr = image.img_to_array(unknown)\n",
    "star_wars(unknown_arr)"
   ]
  },
  {
   "cell_type": "code",
   "execution_count": 97,
   "metadata": {
    "collapsed": false
   },
   "outputs": [
    {
     "data": {
      "image/png": "[encoded data removed]",
      "text/plain": [
       "<PIL.Image.Image image mode=RGB size=180x180 at 0x7F9EBB9D96D8>"
      ]
     },
     "execution_count": 97,
     "metadata": {
     },
     "output_type": "execute_result"
    }
   ],
   "source": [
    "#let's see if we got it right\n",
    "unknown"
   ]
  },
  {
   "cell_type": "code",
   "execution_count": 98,
   "metadata": {
    "collapsed": false
   },
   "outputs": [
    {
     "name": "stdout",
     "output_type": "stream",
     "text": [
      "R2D2\n"
     ]
    }
   ],
   "source": [
    "#let's try it on another image!\n",
    "unknown2 = image.load_img(path=\"/home/user/data/unknown2.jpg\",target_size=(180,180))\n",
    "unknown2_arr = image.img_to_array(unknown2)\n",
    "star_wars(unknown2_arr)"
   ]
  },
  {
   "cell_type": "code",
   "execution_count": 99,
   "metadata": {
    "collapsed": false
   },
   "outputs": [
    {
     "data": {
      "image/png": "[encoded data removed]",
      "text/plain": [
       "<PIL.Image.Image image mode=RGB size=180x180 at 0x7F9EBB9D9710>"
      ]
     },
     "execution_count": 99,
     "metadata": {
     },
     "output_type": "execute_result"
    }
   ],
   "source": [
    "#let's check if we got it right\n",
    "unknown2"
   ]
  },
  {
   "cell_type": "code",
   "execution_count": 100,
   "metadata": {
    "collapsed": false
   },
   "outputs": [
    {
     "name": "stdout",
     "output_type": "stream",
     "text": [
      "Darth\n"
     ]
    }
   ],
   "source": [
    "#let's try it on another image!\n",
    "unknown3 = image.load_img(path=\"/home/user/data/unknown3.jpeg\",target_size=(180,180))\n",
    "unknown3_arr = image.img_to_array(unknown3)\n",
    "star_wars(unknown3_arr)"
   ]
  },
  {
   "cell_type": "code",
   "execution_count": 67,
   "metadata": {
    "collapsed": false
   },
   "outputs": [
    {
     "data": {
      "image/png": "[encoded data removed]",
      "text/plain": [
       "<PIL.Image.Image image mode=RGB size=180x180 at 0x7F74C8760240>"
      ]
     },
     "execution_count": 67,
     "metadata": {
     },
     "output_type": "execute_result"
    }
   ],
   "source": [
    "unknown3"
   ]
  },
  {
   "cell_type": "markdown",
   "metadata": {
    "collapsed": false
   },
   "source": [
    "Why do you think it did not get the above right? What have we not considered?"
   ]
  },
  {
   "cell_type": "markdown",
   "metadata": {
    "collapsed": false
   },
   "source": [
    "<div style=\"text-align: center;\"><img src=\"./coding hive logo med with text.png\" height=\"60\" width=\"47\" />\n",
    "\n",
    "<div> 2019"
   ]
  },
  {
   "cell_type": "raw",
   "metadata": {
    "collapsed": false
   },
   "source": [
    "Did not consider background."
   ]
  },
  {
   "cell_type": "code",
   "execution_count": 0,
   "metadata": {
    "collapsed": false
   },
   "outputs": [
   ],
   "source": [
   ]
  }
 ],
 "metadata": {
  "kernelspec": {
   "display_name": "Python 3 (system-wide)",
   "language": "python",
   "metadata": {
    "cocalc": {
     "description": "Python 3 programming language",
     "priority": 100,
     "url": "https://www.python.org/"
    }
   },
   "name": "python3"
  },
  "language_info": {
   "codemirror_mode": {
    "name": "ipython",
    "version": 3
   },
   "file_extension": ".py",
   "mimetype": "text/x-python",
   "name": "python",
   "nbconvert_exporter": "python",
   "pygments_lexer": "ipython3",
   "version": "3.6.8"
  }
 },
 "nbformat": 4,
 "nbformat_minor": 0
}