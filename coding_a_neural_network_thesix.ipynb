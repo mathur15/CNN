{
 "cells": [
  {
   "cell_type": "markdown",
   "metadata": {
    "collapsed": false
   },
   "source": [
    "<h2><img src=\"../day1/coding hive logo med with text.png\" height=\"60\" width =\"47\"> Coding a Neural Network 2: The 6ix Prediction!</h3>"
   ]
  },
  {
   "cell_type": "markdown",
   "metadata": {
    "collapsed": false
   },
   "source": [
    "<h3>Step 1: Load Required Libraries</h3>"
   ]
  },
  {
   "cell_type": "code",
   "execution_count": 34,
   "metadata": {
    "collapsed": false
   },
   "outputs": [
   ],
   "source": [
    "import keras                               # deep learning package\n",
    "from keras.datasets import mnist           # dataset we will use to train our model\n",
    "from keras.layers import Dense             # a neural network function\n",
    "from keras.models import Sequential        # a neural network function\n",
    "from keras.optimizers import SGD           # a neural network function\n",
    "import matplotlib.pyplot as plt            # visualize images\n",
    "from keras.preprocessing import image      # preprocess images\n",
    "from PIL import Image                      # preprocess images\n",
    "import PIL.ImageOps                        # invert images\n",
    "from keras.models import load_model        # import a model that was already trained"
   ]
  },
  {
   "cell_type": "markdown",
   "metadata": {
    "collapsed": false
   },
   "source": [
    "<h3>Step 2: Load Your Image</h3>"
   ]
  },
  {
   "cell_type": "code",
   "execution_count": 35,
   "metadata": {
    "collapsed": false
   },
   "outputs": [
    {
     "name": "stdout",
     "output_type": "stream",
     "text": [
      "(28, 28)\n"
     ]
    }
   ],
   "source": [
    "img = image.load_img(path=\"/home/user/data/20190818_111835.jpg\",color_mode='grayscale',target_size=(28,28))   #load image as grayscale\n",
    "img = PIL.ImageOps.invert(img) #invert image\n",
    "#img=img.transpose(method=PIL.Image.ROTATE_270)\n",
    "img = image.img_to_array(img)                                                            #convert to array\n",
    "\n",
    "img = img.reshape((28,28))                                                               #reshape array\n",
    "print(img.shape)                                                                         #display image shape"
   ]
  },
  {
   "cell_type": "code",
   "execution_count": 36,
   "metadata": {
    "collapsed": false
   },
   "outputs": [
    {
     "data": {
      "text/plain": [
       "array([[ 49.,  48.,  45.,  45.,  39.,  44.,  42.,  40.,  40.,  43.,  41.,\n",
       "         39.,  41.,  44.,  38.,  41.,  43.,  40.,  43.,  41.,  40.,  39.,\n",
       "         35.,  42.,  39.,  38.,  39.,  39.],\n",
       "       [ 49.,  48.,  49.,  46.,  46.,  41.,  42.,  43.,  43.,  45.,  42.,\n",
       "         40.,  42.,  41.,  43.,  45.,  41.,  40.,  41.,  40.,  40.,  43.,\n",
       "         39.,  40.,  38.,  34.,  36.,  40.],\n",
       "       [ 54.,  54.,  48.,  46.,  45.,  43.,  44.,  40.,  37.,  38.,  37.,\n",
       "         44.,  38.,  40.,  42.,  37.,  40.,  42.,  37.,  39.,  34.,  34.,\n",
       "         38.,  35.,  37.,  36.,  40.,  39.],\n",
       "       [ 54.,  48.,  49.,  46.,  44.,  47.,  44.,  43.,  38.,  39.,  42.,\n",
       "         44.,  41.,  47.,  39.,  40.,  42.,  40.,  41.,  39.,  36.,  37.,\n",
       "         38.,  39.,  37.,  39.,  46.,  37.],\n",
       "       [ 55.,  49.,  52.,  48.,  49.,  47.,  38.,  40.,  42.,  44.,  42.,\n",
       "         42.,  41.,  40.,  40.,  41.,  40.,  43.,  40.,  38.,  40.,  42.,\n",
       "         39.,  39.,  37.,  37.,  36.,  40.],\n",
       "       [ 54.,  47.,  48.,  50.,  42.,  39.,  43.,  39.,  45.,  41.,  41.,\n",
       "         39.,  43.,  45.,  41.,  38.,  39.,  40.,  39.,  42.,  39.,  40.,\n",
       "         39.,  38.,  39.,  40.,  35.,  41.],\n",
       "       [ 50.,  52.,  50.,  48.,  50.,  44.,  46.,  40.,  44.,  42.,  40.,\n",
       "         42.,  37.,  41.,  39.,  43.,  40.,  42.,  41.,  40.,  42.,  44.,\n",
       "         40.,  35.,  38.,  43.,  37.,  43.],\n",
       "       [ 55.,  48.,  49.,  47.,  45.,  45.,  43., 151., 202., 202., 202.,\n",
       "        203., 201., 205., 190.,  41.,  41.,  42.,  41.,  42.,  40.,  41.,\n",
       "         37.,  39.,  38.,  39.,  34.,  40.],\n",
       "       [ 52.,  48.,  46.,  49.,  47.,  43.,  43., 202., 208., 196., 203.,\n",
       "        196., 197., 196., 180., 203., 210.,  40.,  41.,  38.,  39.,  37.,\n",
       "         39.,  38.,  40.,  41.,  36.,  39.],\n",
       "       [ 53.,  53.,  47.,  50.,  47.,  42.,  44.,  44.,  41.,  43.,  40.,\n",
       "         40.,  41.,  38.,  40.,  33., 193., 210.,  44.,  39.,  41.,  36.,\n",
       "         37.,  36.,  39.,  36.,  39.,  41.],\n",
       "       [ 51.,  51.,  46.,  45.,  43.,  44.,  45.,  40.,  41.,  42.,  40.,\n",
       "         39.,  40.,  41.,  41.,  38.,  38., 196.,  39.,  41.,  41.,  41.,\n",
       "         38.,  37.,  37.,  38.,  45.,  38.],\n",
       "       [ 51.,  52.,  50.,  50.,  43.,  41.,  43.,  36.,  39.,  39.,  42.,\n",
       "         37.,  41.,  39.,  41., 211., 182., 180.,  39.,  37.,  38.,  37.,\n",
       "         40.,  41.,  40.,  38.,  43.,  40.],\n",
       "       [ 56.,  54.,  44.,  43.,  47.,  41.,  46.,  40.,  37.,  40.,  43.,\n",
       "         38.,  41., 202., 200., 198., 160.,  39.,  42.,  38.,  40.,  40.,\n",
       "         37.,  40.,  38.,  36.,  41.,  38.],\n",
       "       [ 52.,  53.,  48.,  45.,  45.,  47.,  41.,  40.,  41.,  39.,  38.,\n",
       "         36.,  39., 201., 215.,  47.,  35.,  39.,  37.,  38.,  39.,  37.,\n",
       "         34.,  37.,  35.,  36.,  36.,  39.],\n",
       "       [ 57.,  54.,  49.,  48.,  47.,  42.,  41.,  40.,  42.,  37.,  38.,\n",
       "         41.,  39.,  38., 180., 210.,  42.,  40.,  41.,  37.,  40.,  42.,\n",
       "         38.,  39.,  36.,  37.,  39.,  38.],\n",
       "       [ 55.,  44.,  47.,  49.,  45.,  50.,  48.,  43.,  42.,  40.,  41.,\n",
       "         39.,  38.,  37.,  39.,  38., 203.,  37.,  39.,  38.,  41.,  37.,\n",
       "         38.,  38.,  37.,  37.,  37.,  39.],\n",
       "       [ 58.,  46.,  49.,  46.,  50.,  45.,  47.,  47.,  43.,  40.,  36.,\n",
       "         41.,  37.,  37.,  40.,  39.,  43.,  45.,  40.,  38.,  39.,  39.,\n",
       "         36.,  41.,  39.,  36.,  36.,  40.],\n",
       "       [ 58.,  46.,  53.,  51.,  47.,  52.,  49.,  48.,  48.,  41.,  44.,\n",
       "         38.,  38.,  37.,  37.,  38.,  57., 194.,  40.,  41.,  39.,  41.,\n",
       "         39.,  38.,  38.,  33.,  36.,  42.],\n",
       "       [ 56.,  48.,  55.,  55.,  50.,  47.,  50.,  47.,  49.,  42.,  42.,\n",
       "         40.,  41.,  40.,  39.,  42., 202., 192.,  38.,  43.,  40.,  39.,\n",
       "         41.,  37.,  39.,  38.,  37.,  39.],\n",
       "       [ 57.,  50.,  56.,  55.,  55.,  51.,  51.,  51.,  44.,  46.,  41.,\n",
       "         40.,  36.,  39.,  38., 205., 191.,  74.,  41.,  40.,  41.,  43.,\n",
       "         41.,  37.,  36.,  36.,  35.,  38.],\n",
       "       [ 56.,  51.,  61.,  53.,  58.,  51.,  53.,  51.,  45.,  48.,  42.,\n",
       "         42.,  42., 197., 203., 200., 196.,  42.,  42.,  40.,  38.,  40.,\n",
       "         45.,  39.,  40.,  41.,  37.,  43.],\n",
       "       [ 54.,  53.,  53.,  56.,  56.,  50.,  47., 207., 112., 181., 204.,\n",
       "        210., 200., 203., 204., 190.,  38.,  39.,  42.,  42.,  42.,  39.,\n",
       "         40.,  42.,  41.,  40.,  36.,  43.],\n",
       "       [ 60.,  63.,  54.,  53.,  56.,  55.,  51., 212., 215., 205., 214.,\n",
       "        207., 206., 193.,  44.,  42.,  41.,  39.,  43.,  41.,  45.,  40.,\n",
       "         40.,  39.,  43.,  41.,  38.,  43.],\n",
       "       [ 57.,  56.,  56.,  52.,  57.,  48.,  52.,  51.,  52.,  52.,  49.,\n",
       "         47.,  44.,  45.,  42.,  42.,  47.,  42.,  42.,  42.,  41.,  42.,\n",
       "         43.,  38.,  42.,  42.,  38.,  37.],\n",
       "       [ 61.,  55.,  60.,  56.,  56.,  51.,  52.,  51.,  51.,  49.,  46.,\n",
       "         44.,  48.,  42.,  45.,  44.,  41.,  44.,  44.,  40.,  44.,  41.,\n",
       "         43.,  39.,  43.,  45.,  38.,  42.],\n",
       "       [ 58.,  59.,  58.,  61.,  54.,  54.,  53.,  53.,  54.,  48.,  51.,\n",
       "         50.,  46.,  41.,  43.,  43.,  40.,  42.,  42.,  42.,  40.,  43.,\n",
       "         40.,  45.,  44.,  40.,  37.,  43.],\n",
       "       [ 72.,  57.,  56.,  59.,  57.,  56.,  55.,  49.,  50.,  51.,  51.,\n",
       "         47.,  48.,  49.,  45.,  42.,  41.,  45.,  42.,  43.,  40.,  42.,\n",
       "         42.,  42.,  48.,  40.,  42.,  47.],\n",
       "       [ 63.,  53.,  61.,  58.,  62.,  59.,  55.,  56.,  53.,  55.,  58.,\n",
       "         51.,  49.,  48.,  45.,  43.,  46.,  46.,  45.,  42.,  43.,  41.,\n",
       "         42.,  48.,  47.,  44.,  41.,  46.]], dtype=float32)"
      ]
     },
     "execution_count": 36,
     "metadata": {
     },
     "output_type": "execute_result"
    }
   ],
   "source": [
    "#let's look at image content\n",
    "img"
   ]
  },
  {
   "cell_type": "markdown",
   "metadata": {
    "collapsed": false
   },
   "source": [
    "<h3>Step 3: Display Your Image</h3>"
   ]
  },
  {
   "cell_type": "code",
   "execution_count": 37,
   "metadata": {
    "collapsed": false
   },
   "outputs": [
    {
     "data": {
      "text/plain": [
       "<matplotlib.image.AxesImage at 0x7fb9ec407518>"
      ]
     },
     "execution_count": 37,
     "metadata": {
     },
     "output_type": "execute_result"
    },
    {
     "data": {
      "image/png": "[encoded data removed]",
      "text/plain": [
       "<Figure size 432x288 with 1 Axes>"
      ]
     },
     "execution_count": 37,
     "metadata": {
      "image/png": {
       "height": 250,
       "width": 253
      }
     },
     "output_type": "execute_result"
    }
   ],
   "source": [
    "plt.imshow(img)"
   ]
  },
  {
   "cell_type": "markdown",
   "metadata": {
    "collapsed": false
   },
   "source": [
    "<h3>Step 4: Reshape Your Image</h3>"
   ]
  },
  {
   "cell_type": "code",
   "execution_count": 38,
   "metadata": {
    "collapsed": false
   },
   "outputs": [
   ],
   "source": [
    "img = img.reshape((1,784)) #reshape it to 1x784 to prepare it for the model we developed\n"
   ]
  },
  {
   "cell_type": "markdown",
   "metadata": {
    "collapsed": false
   },
   "source": [
    "<h3>Step 5: Load The Trained Model</h3>"
   ]
  },
  {
   "cell_type": "code",
   "execution_count": 39,
   "metadata": {
    "collapsed": false
   },
   "outputs": [
   ],
   "source": [
    "model = load_model('./mnistmodel.h5')     #load the model instead of re-running it from scratch!\n",
    "#model.load_weights('./mnistmodel_weights.h5')"
   ]
  },
  {
   "cell_type": "markdown",
   "metadata": {
    "collapsed": false
   },
   "source": [
    "<h3>Step 6: Predict!</h3>"
   ]
  },
  {
   "cell_type": "code",
   "execution_count": 40,
   "metadata": {
    "collapsed": false
   },
   "outputs": [
    {
     "name": "stdout",
     "output_type": "stream",
     "text": [
      "Predicted Number:  [3]\n"
     ]
    }
   ],
   "source": [
    "prediction = model.predict_classes(img)  #predict the number!\n",
    "print(\"Predicted Number: \",prediction)       #display the prediction"
   ]
  },
  {
   "cell_type": "code",
   "execution_count": 16,
   "metadata": {
    "collapsed": false
   },
   "outputs": [
    {
     "data": {
      "text/plain": [
       "array([[3.88807964e-09, 1.42300130e-11, 5.46877319e-03, 7.36776114e-01,\n",
       "        3.95304966e-07, 1.70735661e-02, 1.01876876e-03, 4.57101532e-06,\n",
       "        1.24652892e-01, 1.15004905e-01]], dtype=float32)"
      ]
     },
     "execution_count": 16,
     "metadata": {
     },
     "output_type": "execute_result"
    }
   ],
   "source": [
    "model.predict(img)                      #display the probability for each number"
   ]
  },
  {
   "cell_type": "markdown",
   "metadata": {
    "collapsed": false
   },
   "source": [
    "<h3>Assignment 3</h3>\n",
    "Try testing different pictures!"
   ]
  },
  {
   "cell_type": "code",
   "execution_count": 0,
   "metadata": {
    "collapsed": false
   },
   "outputs": [
   ],
   "source": [
   ]
  },
  {
   "cell_type": "markdown",
   "metadata": {
    "collapsed": false
   },
   "source": [
    "<div style=\"text-align: center;\"><img src=\"../day1/coding hive logo med with text.png\" height=\"60\" width=\"47\" />\n",
    "\n",
    "<div> 2019"
   ]
  }
 ],
 "metadata": {
  "kernelspec": {
   "display_name": "Python 3 (system-wide)",
   "language": "python",
   "metadata": {
    "cocalc": {
     "description": "Python 3 programming language",
     "priority": 100,
     "url": "https://www.python.org/"
    }
   },
   "name": "python3"
  },
  "language_info": {
   "codemirror_mode": {
    "name": "ipython",
    "version": 3
   },
   "file_extension": ".py",
   "mimetype": "text/x-python",
   "name": "python",
   "nbconvert_exporter": "python",
   "pygments_lexer": "ipython3",
   "version": "3.6.8"
  }
 },
 "nbformat": 4,
 "nbformat_minor": 0
}